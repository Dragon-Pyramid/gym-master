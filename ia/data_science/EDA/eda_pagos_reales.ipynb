{
 "cells": [
  {
   "cell_type": "markdown",
   "id": "1d7d32c3",
   "metadata": {},
   "source": [
    "\n",
    "# EDA de Pagos Reales desde Supabase - Proyecto Gym Master\n",
    "\n",
    "Este notebook analiza los pagos reales extraídos de Supabase, calcula el perfil de pago de cada socio y explora la distribución de pagos, retrasos y métodos de pago.\n"
   ]
  },
  {
   "cell_type": "code",
   "execution_count": null,
   "id": "500d2d78",
   "metadata": {},
   "outputs": [],
   "source": [
    "\n",
    "import pandas as pd\n",
    "import matplotlib.pyplot as plt\n",
    "import seaborn as sns\n",
    "from datetime import datetime\n",
    "\n",
    "# Configuraciones generales\n",
    "sns.set(style=\"whitegrid\")\n",
    "plt.rcParams['figure.figsize'] = (12, 6)\n"
   ]
  },
  {
   "cell_type": "code",
   "execution_count": null,
   "id": "07e75afd",
   "metadata": {},
   "outputs": [],
   "source": [
    "\n",
    "# Cargar dataset real\n",
    "pagos_df = pd.read_csv('../../Data_Lake_CSV/pagos_supabase.csv')\n",
    "\n",
    "# Vista general del dataset\n",
    "pagos_df.head()\n"
   ]
  },
  {
   "cell_type": "code",
   "execution_count": null,
   "id": "30eb00de",
   "metadata": {},
   "outputs": [],
   "source": [
    "\n",
    "# --- Enriquecer con perfil de pago ---\n",
    "\n",
    "# Calcular promedio de dias_retraso por socio\n",
    "promedio_retraso = pagos_df.groupby('socio_id')['dias_retraso'].mean().reset_index()\n",
    "promedio_retraso.rename(columns={'dias_retraso': 'promedio_dias_retraso'}, inplace=True)\n",
    "\n",
    "# Asignar perfil_pago\n",
    "def asignar_perfil(promedio):\n",
    "    if promedio <= 1:\n",
    "        return 'puntual'\n",
    "    elif promedio <= 7:\n",
    "        return 'leve_retraso'\n",
    "    else:\n",
    "        return 'moroso'\n",
    "\n",
    "promedio_retraso['perfil_pago'] = promedio_retraso['promedio_dias_retraso'].apply(asignar_perfil)\n",
    "\n",
    "# Unir al dataframe original\n",
    "pagos_df = pagos_df.merge(promedio_retraso[['socio_id', 'perfil_pago']], on='socio_id')\n",
    "pagos_df.head()\n"
   ]
  },
  {
   "cell_type": "code",
   "execution_count": null,
   "id": "5c6ee2a7",
   "metadata": {},
   "outputs": [],
   "source": [
    "\n",
    "# --- Distribución de pagos por mes y día ---\n",
    "pagos_df['fecha_pago'] = pd.to_datetime(pagos_df['fecha_pago'])\n",
    "pagos_df['mes_pago'] = pagos_df['fecha_pago'].dt.to_period('M')\n",
    "pagos_df['dia_pago'] = pagos_df['fecha_pago'].dt.day\n",
    "\n",
    "pagos_df['mes_pago'].value_counts().sort_index().plot(kind='bar')\n",
    "plt.title('Cantidad de Pagos por Mes')\n",
    "plt.xlabel('Mes')\n",
    "plt.ylabel('Cantidad de pagos')\n",
    "plt.show()\n",
    "\n",
    "sns.histplot(pagos_df['dia_pago'], bins=31, kde=False)\n",
    "plt.title('Distribución de Pagos por Día del Mes')\n",
    "plt.xlabel('Día del mes')\n",
    "plt.ylabel('Cantidad de pagos')\n",
    "plt.show()\n"
   ]
  },
  {
   "cell_type": "code",
   "execution_count": null,
   "id": "44c72684",
   "metadata": {},
   "outputs": [],
   "source": [
    "\n",
    "# --- Análisis de retrasos por perfil ---\n",
    "sns.boxplot(data=pagos_df, x='perfil_pago', y='dias_retraso')\n",
    "plt.title('Días de Retraso por Perfil de Pago')\n",
    "plt.show()\n",
    "\n",
    "sns.histplot(data=pagos_df, x='dias_retraso', hue='perfil_pago', multiple='stack')\n",
    "plt.title('Distribución de Días de Retraso por Perfil')\n",
    "plt.show()\n"
   ]
  },
  {
   "cell_type": "code",
   "execution_count": null,
   "id": "67193c03",
   "metadata": {},
   "outputs": [],
   "source": [
    "\n",
    "# --- Métodos de pago más utilizados (si la columna existe) ---\n",
    "if 'metodo_pago' in pagos_df.columns:\n",
    "    pagos_df['metodo_pago'].value_counts().plot(kind='bar')\n",
    "    plt.title('Métodos de Pago Más Utilizados')\n",
    "    plt.xlabel('Método de pago')\n",
    "    plt.ylabel('Cantidad de pagos')\n",
    "    plt.show()\n"
   ]
  },
  {
   "cell_type": "markdown",
   "id": "a62d4598",
   "metadata": {},
   "source": [
    "\n",
    "## Conclusión\n",
    "\n",
    "El EDA permitió identificar el perfil de pago de cada socio, analizar la frecuencia de pagos en el tiempo, los días de retraso y el uso de métodos de pago.\n",
    "Esto sienta la base para estrategias de segmentación, optimización de precios y predicciones futuras.\n"
   ]
  }
 ],
 "metadata": {},
 "nbformat": 4,
 "nbformat_minor": 5
}
