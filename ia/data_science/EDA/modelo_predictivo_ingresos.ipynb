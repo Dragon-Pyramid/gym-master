{
 "cells": [
  {
   "cell_type": "markdown",
   "id": "3519d5b1",
   "metadata": {},
   "source": [
    "\n",
    "# Modelo Predictivo de Ingresos Mensuales - Proyecto Gym Master\n",
    "\n",
    "## Objetivo\n",
    "Construir un modelo de machine learning que prediga los ingresos mensuales futuros del gimnasio basado en:\n",
    "- Cantidad de socios.\n",
    "- Precio promedio mensual.\n",
    "- Distribución de segmentos de pago.\n",
    "\n",
    "Simularemos un histórico de ingresos para entrenar el modelo.\n"
   ]
  },
  {
   "cell_type": "code",
   "execution_count": null,
   "id": "9e7dcbba",
   "metadata": {},
   "outputs": [],
   "source": [
    "\n",
    "import pandas as pd\n",
    "import numpy as np\n",
    "import matplotlib.pyplot as plt\n",
    "from sklearn.model_selection import train_test_split\n",
    "from sklearn.ensemble import RandomForestRegressor\n",
    "from sklearn.metrics import mean_absolute_error, r2_score\n",
    "\n",
    "# Simular datos históricos\n",
    "np.random.seed(42)\n",
    "meses = pd.date_range(start='2022-01-01', periods=24, freq='MS')\n",
    "\n",
    "historico = pd.DataFrame({\n",
    "    'mes': meses,\n",
    "    'socios': np.random.poisson(lam=200, size=24).astype(int),\n",
    "    'precio_promedio': np.random.normal(50, 5, size=24).round(2),\n",
    "    'porc_puntuales': np.random.uniform(0.5, 0.7, size=24).round(2),\n",
    "    'porc_retraso_leve': np.random.uniform(0.2, 0.3, size=24).round(2),\n",
    "    'porc_morosos': np.random.uniform(0.05, 0.2, size=24).round(2),\n",
    "})\n",
    "\n",
    "# Simular ingresos\n",
    "historico['ingresos'] = (historico['socios'] * historico['precio_promedio'] *\n",
    "                         (historico['porc_puntuales']*1 +\n",
    "                          historico['porc_retraso_leve']*0.9 +\n",
    "                          historico['porc_morosos']*0.7)).round(2)\n",
    "\n",
    "historico.head()\n"
   ]
  },
  {
   "cell_type": "code",
   "execution_count": null,
   "id": "3c46f718",
   "metadata": {},
   "outputs": [],
   "source": [
    "\n",
    "# Separar features y target\n",
    "X = historico[['socios', 'precio_promedio', 'porc_puntuales', 'porc_retraso_leve', 'porc_morosos']]\n",
    "y = historico['ingresos']\n",
    "\n",
    "# Dividir en train y test\n",
    "X_train, X_test, y_train, y_test = train_test_split(X, y, test_size=0.2, random_state=42)\n",
    "\n",
    "# Modelo\n",
    "modelo = RandomForestRegressor(n_estimators=100, random_state=42)\n",
    "modelo.fit(X_train, y_train)\n",
    "\n",
    "# Predicciones\n",
    "y_pred = modelo.predict(X_test)\n",
    "\n",
    "# Evaluación\n",
    "mae = mean_absolute_error(y_test, y_pred)\n",
    "r2 = r2_score(y_test, y_pred)\n",
    "\n",
    "print(f'MAE: {mae:.2f}')\n",
    "print(f'R2 Score: {r2:.2f}')\n"
   ]
  },
  {
   "cell_type": "code",
   "execution_count": null,
   "id": "ab9f4f96",
   "metadata": {},
   "outputs": [],
   "source": [
    "\n",
    "# Predicción para un nuevo mes\n",
    "nuevo_mes = pd.DataFrame([{\n",
    "    'socios': 220,\n",
    "    'precio_promedio': 52,\n",
    "    'porc_puntuales': 0.65,\n",
    "    'porc_retraso_leve': 0.25,\n",
    "    'porc_morosos': 0.1\n",
    "}])\n",
    "\n",
    "pred_ingreso = modelo.predict(nuevo_mes)\n",
    "print(f'Ingreso estimado para el próximo mes: ${pred_ingreso[0]:.2f}')\n"
   ]
  },
  {
   "cell_type": "markdown",
   "id": "7fa76444",
   "metadata": {},
   "source": [
    "\n",
    "## Conclusión\n",
    "\n",
    "El modelo predictivo permite estimar el ingreso mensual del gimnasio en función de:\n",
    "- La cantidad de socios activos.\n",
    "- El precio promedio que se cobra.\n",
    "- El comportamiento de pago por segmento.\n",
    "\n",
    "Este modelo puede integrarse a dashboards o pipelines para proyecciones financieras automáticas.\n"
   ]
  }
 ],
 "metadata": {},
 "nbformat": 4,
 "nbformat_minor": 5
}
