{
 "cells": [
  {
   "cell_type": "markdown",
   "id": "a98a4f5c",
   "metadata": {},
   "source": [
    "\n",
    "# EDA del Comportamiento de Pagos - Proyecto Gym Master\n",
    "\n",
    "## Introducción\n",
    "Este análisis exploratorio de datos (EDA) tiene como objetivo entender el comportamiento de pagos de los socios de un gimnasio.\n",
    "Analizamos patrones temporales, retrasos en los pagos, métodos de pago más utilizados y la relación entre descuentos y la puntualidad.\n",
    "Además, realizamos una segmentación visual para entender mejor los perfiles de pago.\n"
   ]
  },
  {
   "cell_type": "code",
   "execution_count": null,
   "id": "63887691",
   "metadata": {},
   "outputs": [],
   "source": [
    "\n",
    "import pandas as pd\n",
    "import matplotlib.pyplot as plt\n",
    "import seaborn as sns\n",
    "from datetime import datetime\n",
    "\n",
    "# Configuraciones generales\n",
    "sns.set(style=\"whitegrid\")\n",
    "plt.rcParams['figure.figsize'] = (12, 6)\n",
    "\n",
    "# Cargar dataset\n",
    "pagos_df = pd.read_csv('../../Data_Lake/pagos_simulados.csv')\n",
    "\n",
    "# Vista general del dataset\n",
    "pagos_df.head()\n"
   ]
  },
  {
   "cell_type": "code",
   "execution_count": null,
   "id": "982eff17",
   "metadata": {},
   "outputs": [],
   "source": [
    "\n",
    "# --- Distribución de pagos por mes y día ---\n",
    "pagos_df['fecha_pago'] = pd.to_datetime(pagos_df['fecha_pago'])\n",
    "pagos_df['mes_pago'] = pagos_df['fecha_pago'].dt.to_period('M')\n",
    "pagos_df['dia_pago'] = pagos_df['fecha_pago'].dt.day\n",
    "\n",
    "pagos_df['mes_pago'].value_counts().sort_index().plot(kind='bar')\n",
    "plt.title('Cantidad de Pagos por Mes')\n",
    "plt.xlabel('Mes')\n",
    "plt.ylabel('Cantidad de pagos')\n",
    "plt.show()\n",
    "\n",
    "sns.histplot(pagos_df['dia_pago'], bins=31, kde=False)\n",
    "plt.title('Distribución de Pagos por Día del Mes')\n",
    "plt.xlabel('Día del mes')\n",
    "plt.ylabel('Cantidad de pagos')\n",
    "plt.show()\n"
   ]
  },
  {
   "cell_type": "code",
   "execution_count": null,
   "id": "29204093",
   "metadata": {},
   "outputs": [],
   "source": [
    "\n",
    "# --- Análisis de retrasos por perfil ---\n",
    "sns.boxplot(data=pagos_df, x='perfil_pago', y='dias_retraso')\n",
    "plt.title('Días de Retraso por Perfil de Pago')\n",
    "plt.show()\n",
    "\n",
    "sns.histplot(data=pagos_df, x='dias_retraso', hue='perfil_pago', multiple='stack')\n",
    "plt.title('Distribución de Días de Retraso por Perfil')\n",
    "plt.show()\n"
   ]
  },
  {
   "cell_type": "code",
   "execution_count": null,
   "id": "875b4017",
   "metadata": {},
   "outputs": [],
   "source": [
    "\n",
    "# --- Métodos de pago más utilizados ---\n",
    "pagos_df['metodo_pago'].value_counts().plot(kind='bar')\n",
    "plt.title('Métodos de Pago Más Utilizados')\n",
    "plt.xlabel('Método de pago')\n",
    "plt.ylabel('Cantidad de pagos')\n",
    "plt.show()\n"
   ]
  },
  {
   "cell_type": "code",
   "execution_count": null,
   "id": "fec06f3b",
   "metadata": {},
   "outputs": [],
   "source": [
    "\n",
    "# --- Relación entre descuentos y puntualidad ---\n",
    "sns.boxplot(data=pagos_df, x='perfil_pago', y='descuento')\n",
    "plt.title('Distribución de Descuentos por Perfil de Pago')\n",
    "plt.show()\n"
   ]
  },
  {
   "cell_type": "code",
   "execution_count": null,
   "id": "bca08aba",
   "metadata": {},
   "outputs": [],
   "source": [
    "\n",
    "# --- Segmentación visual de perfiles ---\n",
    "sns.scatterplot(data=pagos_df, x='dias_retraso', y='monto', hue='perfil_pago')\n",
    "plt.title('Segmentación Visual: Días de Retraso vs Monto por Perfil')\n",
    "plt.show()\n"
   ]
  },
  {
   "cell_type": "markdown",
   "id": "eb138b09",
   "metadata": {},
   "source": [
    "\n",
    "## Conclusiones\n",
    "\n",
    "- La mayoría de los pagos se concentran en los primeros días del mes.\n",
    "- Los perfiles morosos tienen una mayor dispersión y severidad en los días de retraso.\n",
    "- El método de pago más frecuente es la tarjeta, seguido de efectivo.\n",
    "- Los descuentos se concentran en perfiles puntuales.\n",
    "- Existe una clara segmentación visual entre puntuales, leves retrasados y morosos en función de los días de retraso.\n",
    "\n",
    "Este EDA servirá de base para modelos de segmentación, predicción de ingresos y estrategias de fidelización.\n"
   ]
  }
 ],
 "metadata": {},
 "nbformat": 4,
 "nbformat_minor": 5
}
