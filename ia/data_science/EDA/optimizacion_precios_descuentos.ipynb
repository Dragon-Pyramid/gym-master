{
 "cells": [
  {
   "cell_type": "markdown",
   "id": "2a93b15d",
   "metadata": {},
   "source": [
    "\n",
    "# Optimización de Precios y Descuentos Personalizados - Proyecto Gym Master\n",
    "\n",
    "## Objetivo\n",
    "Simular la elasticidad al precio en base a los perfiles de pago de los socios, para proponer estrategias de descuento que minimicen el churn y aumenten los ingresos.\n",
    "Trabajaremos con los segmentos generados previamente: Puntuales, Retraso leve y Morosos crónicos.\n"
   ]
  },
  {
   "cell_type": "code",
   "execution_count": null,
   "id": "2ec011af",
   "metadata": {},
   "outputs": [],
   "source": [
    "\n",
    "import pandas as pd\n",
    "import matplotlib.pyplot as plt\n",
    "import seaborn as sns\n",
    "import numpy as np\n",
    "\n",
    "# Configuración de gráficos\n",
    "sns.set(style='whitegrid')\n",
    "plt.rcParams['figure.figsize'] = (12,6)\n",
    "\n",
    "# Cargar el dataset de pagos con segmento incluido\n",
    "pagos_df = pd.read_csv('../Data_Lake/pagos_simulados.csv')\n",
    "segmentos_df = pd.read_csv('../Data_Lake/segmentacion_socios.csv')  # asumimos que se guarda desde el notebook anterior\n",
    "\n",
    "# Unir el segmento al dataset de pagos\n",
    "pagos_df = pagos_df.merge(segmentos_df[['socio_id', 'segmento_pago']], on='socio_id')\n",
    "pagos_df.head()\n"
   ]
  },
  {
   "cell_type": "code",
   "execution_count": null,
   "id": "35fcfdbe",
   "metadata": {},
   "outputs": [],
   "source": [
    "\n",
    "# Simulación de elasticidad al precio\n",
    "precios_actuales = {'Básico': 30, 'Estándar': 50, 'Premium': 70}\n",
    "variaciones_precio = np.arange(-0.3, 0.31, 0.1)  # de -30% a +30%\n",
    "\n",
    "# Simulamos probabilidad de pago por variación de precio y segmento\n",
    "elasticidad = {\n",
    "    'Puntual': -0.2,        # baja sensibilidad\n",
    "    'Retraso leve': -0.5,   # sensibilidad media\n",
    "    'Moroso crónico': -0.8  # muy sensible al precio\n",
    "}\n",
    "\n",
    "resultados = []\n",
    "for nivel, precio_base in precios_actuales.items():\n",
    "    for var in variaciones_precio:\n",
    "        precio_nuevo = precio_base * (1 + var)\n",
    "        for segmento, sens in elasticidad.items():\n",
    "            prob_pago = max(0, 1 + sens * var)\n",
    "            ingresos_esperados = precio_nuevo * prob_pago\n",
    "            resultados.append({\n",
    "                'nivel': nivel,\n",
    "                'segmento': segmento,\n",
    "                'variacion_precio': round(var,2),\n",
    "                'precio_nuevo': round(precio_nuevo,2),\n",
    "                'prob_pago': round(prob_pago,2),\n",
    "                'ingresos_esperados': round(ingresos_esperados,2)\n",
    "            })\n",
    "\n",
    "df_elasticidad = pd.DataFrame(resultados)\n",
    "df_elasticidad.head()\n"
   ]
  },
  {
   "cell_type": "code",
   "execution_count": null,
   "id": "889aa6f7",
   "metadata": {},
   "outputs": [],
   "source": [
    "\n",
    "# Visualización de la elasticidad\n",
    "sns.lineplot(data=df_elasticidad, x='variacion_precio', y='ingresos_esperados', hue='segmento', style='nivel')\n",
    "plt.title('Elasticidad al Precio por Segmento y Nivel de Subscripción')\n",
    "plt.xlabel('Variación de Precio (%)')\n",
    "plt.ylabel('Ingresos Esperados')\n",
    "plt.show()\n"
   ]
  },
  {
   "cell_type": "code",
   "execution_count": null,
   "id": "04219c52",
   "metadata": {},
   "outputs": [],
   "source": [
    "\n",
    "# Propuesta de descuentos personalizados\n",
    "propuesta_descuento = pd.DataFrame({\n",
    "    'segmento': ['Puntual', 'Retraso leve', 'Moroso crónico'],\n",
    "    'descuento_sugerido': ['5%', '10%', '20%'],\n",
    "    'justificacion': [\n",
    "        'Incentivo pequeño o beneficios premium',\n",
    "        'Reducir riesgo de atraso incentivando puntualidad',\n",
    "        'Reducir barrera de pago para minimizar churn'\n",
    "    ]\n",
    "})\n",
    "propuesta_descuento\n"
   ]
  },
  {
   "cell_type": "markdown",
   "id": "db5b6e52",
   "metadata": {},
   "source": [
    "\n",
    "## Conclusión\n",
    "\n",
    "- Los socios **puntuales** mantienen alta probabilidad de pago incluso con aumentos leves de precio.\n",
    "- Los **retraso leve** y **morosos crónicos** muestran mayor caída en ingresos si el precio sube.\n",
    "- Por ello, proponemos aplicar **descuentos diferenciados** según el segmento para optimizar ingresos y retención.\n",
    "\n",
    "Esta estrategia puede implementarse junto con un sistema de alertas para identificar cambios de comportamiento.\n"
   ]
  }
 ],
 "metadata": {},
 "nbformat": 4,
 "nbformat_minor": 5
}
