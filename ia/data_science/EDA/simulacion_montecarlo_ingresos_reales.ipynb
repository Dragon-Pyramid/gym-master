{
 "cells": [
  {
   "cell_type": "markdown",
   "id": "43a88d8f",
   "metadata": {},
   "source": [
    "\n",
    "# Simulación Monte Carlo de Ingresos Futuros con Datos Reales - Proyecto Gym Master\n",
    "\n",
    "## Objetivo\n",
    "Simular escenarios futuros de crecimiento de socios y variación de precios usando la técnica de Monte Carlo, aplicando los datos reales de segmentación.\n"
   ]
  },
  {
   "cell_type": "code",
   "execution_count": null,
   "id": "c31198ff",
   "metadata": {},
   "outputs": [],
   "source": [
    "\n",
    "import numpy as np\n",
    "import pandas as pd\n",
    "import matplotlib.pyplot as plt\n",
    "import seaborn as sns\n",
    "\n",
    "# Configuración general\n",
    "sns.set(style='whitegrid')\n",
    "plt.rcParams['figure.figsize'] = (12,6)\n"
   ]
  },
  {
   "cell_type": "code",
   "execution_count": null,
   "id": "5daa7010",
   "metadata": {},
   "outputs": [],
   "source": [
    "\n",
    "# Cargar dataset de segmentación real\n",
    "segmentos_df = pd.read_csv('../../Data_Lake_CSV/segmentacion_socios.csv')\n",
    "\n",
    "# Datos base\n",
    "socios_actuales = len(segmentos_df)\n",
    "precio_mensual_promedio = 50  # valor promedio asumido\n",
    "\n",
    "print(f'Socios actuales: {socios_actuales}, Precio promedio mensual: ${precio_mensual_promedio}')\n"
   ]
  },
  {
   "cell_type": "code",
   "execution_count": null,
   "id": "c7455025",
   "metadata": {},
   "outputs": [],
   "source": [
    "\n",
    "# Parámetros de la simulación\n",
    "n_simulaciones = 1000\n",
    "meses_a_simular = 12\n",
    "crecimiento_medio = 0.02  # 2% crecimiento mensual esperado\n",
    "crecimiento_std = 0.01\n",
    "variacion_precio_media = 0.01\n",
    "variacion_precio_std = 0.005\n",
    "\n",
    "simulaciones = []\n",
    "\n",
    "for sim in range(n_simulaciones):\n",
    "    socios = socios_actuales\n",
    "    precio = precio_mensual_promedio\n",
    "    ingresos_totales = []\n",
    "    \n",
    "    for mes in range(meses_a_simular):\n",
    "        tasa_crecimiento = np.random.normal(crecimiento_medio, crecimiento_std)\n",
    "        socios *= (1 + tasa_crecimiento)\n",
    "        \n",
    "        ajuste_precio = np.random.normal(variacion_precio_media, variacion_precio_std)\n",
    "        precio *= (1 + ajuste_precio)\n",
    "        \n",
    "        ingresos = socios * precio\n",
    "        ingresos_totales.append(ingresos)\n",
    "    \n",
    "    simulaciones.append(ingresos_totales)\n",
    "\n",
    "simulaciones = np.array(simulaciones)\n",
    "simulaciones.shape\n"
   ]
  },
  {
   "cell_type": "code",
   "execution_count": null,
   "id": "431940e1",
   "metadata": {},
   "outputs": [],
   "source": [
    "\n",
    "# Visualizar trayectorias simuladas\n",
    "for i in range(100):  # primeras 100 simulaciones\n",
    "    plt.plot(simulaciones[i], color='skyblue', alpha=0.3)\n",
    "\n",
    "plt.title('Simulación Monte Carlo de Ingresos Mensuales (1000 simulaciones)')\n",
    "plt.xlabel('Mes')\n",
    "plt.ylabel('Ingresos proyectados ($)')\n",
    "plt.show()\n"
   ]
  },
  {
   "cell_type": "code",
   "execution_count": null,
   "id": "9e0c9977",
   "metadata": {},
   "outputs": [],
   "source": [
    "\n",
    "# Percentiles P5, P50, P95\n",
    "percentiles = [5, 50, 95]\n",
    "proyecciones = np.percentile(simulaciones, percentiles, axis=0)\n",
    "\n",
    "for i, p in enumerate(percentiles):\n",
    "    plt.plot(proyecciones[i], label=f'Percentil {p}')\n",
    "\n",
    "plt.title('Proyección de Ingresos con Percentiles (P5, P50, P95)')\n",
    "plt.xlabel('Mes')\n",
    "plt.ylabel('Ingresos proyectados ($)')\n",
    "plt.legend()\n",
    "plt.show()\n"
   ]
  },
  {
   "cell_type": "markdown",
   "id": "4d3010c7",
   "metadata": {},
   "source": [
    "\n",
    "## Conclusión\n",
    "\n",
    "Esta simulación proporciona rangos esperados de ingresos futuros considerando el crecimiento proyectado de socios y el ajuste progresivo de precios.\n",
    "Permite a la dirección planificar escenarios optimistas, conservadores y pesimistas para la toma de decisiones estratégicas.\n"
   ]
  }
 ],
 "metadata": {},
 "nbformat": 4,
 "nbformat_minor": 5
}
