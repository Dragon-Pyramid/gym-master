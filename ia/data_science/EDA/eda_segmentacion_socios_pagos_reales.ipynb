{
 "cells": [
  {
   "cell_type": "markdown",
   "id": "960678ef",
   "metadata": {},
   "source": [
    "\n",
    "# Segmentación de Socios por Comportamiento de Pago (Pagos Reales) - Proyecto Gym Master\n",
    "\n",
    "## Objetivo\n",
    "Clasificar socios en tres segmentos según su comportamiento de pago utilizando el dataset real extraído de Supabase:\n",
    "- **Puntuales:** promedio de días de retraso <= 1.\n",
    "- **Retrasos leves:** promedio de días de retraso entre 2 y 7.\n",
    "- **Morosos crónicos:** promedio de días de retraso > 7.\n"
   ]
  },
  {
   "cell_type": "code",
   "execution_count": null,
   "id": "3db49a39",
   "metadata": {},
   "outputs": [],
   "source": [
    "\n",
    "import pandas as pd\n",
    "import matplotlib.pyplot as plt\n",
    "import seaborn as sns\n",
    "\n",
    "# Configuración de gráficos\n",
    "sns.set(style='whitegrid')\n",
    "plt.rcParams['figure.figsize'] = (12,6)\n"
   ]
  },
  {
   "cell_type": "code",
   "execution_count": null,
   "id": "cc409166",
   "metadata": {},
   "outputs": [],
   "source": [
    "\n",
    "# Cargar el dataset de pagos reales\n",
    "pagos_df = pd.read_csv('../../Data_Lake_CSV/pagos_supabase.csv')\n",
    "\n",
    "# Verificar datos\n",
    "pagos_df.head()\n"
   ]
  },
  {
   "cell_type": "code",
   "execution_count": null,
   "id": "96e8d694",
   "metadata": {},
   "outputs": [],
   "source": [
    "\n",
    "# Calcular promedio de días de retraso por socio\n",
    "retraso_promedio = pagos_df.groupby('socio_id')['dias_retraso'].mean().reset_index()\n",
    "retraso_promedio.rename(columns={'dias_retraso': 'promedio_dias_retraso'}, inplace=True)\n",
    "\n",
    "# Asignar segmento según promedio de retraso\n",
    "def asignar_segmento(promedio):\n",
    "    if promedio <= 1:\n",
    "        return 'Puntual'\n",
    "    elif promedio <= 7:\n",
    "        return 'Retraso leve'\n",
    "    else:\n",
    "        return 'Moroso crónico'\n",
    "\n",
    "retraso_promedio['segmento_pago'] = retraso_promedio['promedio_dias_retraso'].apply(asignar_segmento)\n",
    "retraso_promedio.head()\n"
   ]
  },
  {
   "cell_type": "code",
   "execution_count": null,
   "id": "8607ed28",
   "metadata": {},
   "outputs": [],
   "source": [
    "\n",
    "# Visualización de la distribución de segmentos\n",
    "sns.countplot(data=retraso_promedio, x='segmento_pago', order=['Puntual', 'Retraso leve', 'Moroso crónico'])\n",
    "plt.title('Distribución de Socios por Segmento de Pago')\n",
    "plt.xlabel('Segmento')\n",
    "plt.ylabel('Cantidad de socios')\n",
    "plt.show()\n"
   ]
  },
  {
   "cell_type": "code",
   "execution_count": null,
   "id": "1b60002e",
   "metadata": {},
   "outputs": [],
   "source": [
    "\n",
    "# Opcional: merge con pagos_df para tener el segmento en cada pago\n",
    "pagos_segmentados = pagos_df.merge(retraso_promedio[['socio_id', 'segmento_pago']], on='socio_id')\n",
    "pagos_segmentados.head()\n"
   ]
  },
  {
   "cell_type": "code",
   "execution_count": null,
   "id": "3628077a",
   "metadata": {},
   "outputs": [],
   "source": [
    "\n",
    "# Guardar el dataframe de segmentación en el Data Lake CSV\n",
    "retraso_promedio.to_csv('../../Data_Lake_CSV/segmentacion_socios.csv', index=False)\n",
    "print(\"✅ Segmentación de socios guardada en ../../Data_Lake_CSV/segmentacion_socios.csv\")\n"
   ]
  },
  {
   "cell_type": "markdown",
   "id": "a23165c2",
   "metadata": {},
   "source": [
    "\n",
    "## Conclusión\n",
    "\n",
    "Ahora contamos con una clasificación de los socios reales según su comportamiento de pago.\n",
    "Este dataset segmentado permite diseñar estrategias de fidelización, descuentos o recobro, y se integra en los siguientes pasos del pipeline de analítica.\n"
   ]
  }
 ],
 "metadata": {},
 "nbformat": 4,
 "nbformat_minor": 5
}
