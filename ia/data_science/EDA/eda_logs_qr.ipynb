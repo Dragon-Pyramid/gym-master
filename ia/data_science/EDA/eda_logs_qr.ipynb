{
 "cells": [
  {
   "cell_type": "markdown",
   "id": "b322b5b8",
   "metadata": {},
   "source": [
    "# EDA Logs QR - Gym Master\n",
    "\n",
    "Exploratory Data Analysis (EDA) sobre los registros de ingreso por QR almacenados en Supabase.\n",
    "\n",
    "- Extracción de datos desde Supabase\n",
    "- Exploración de la distribución por hora, día, dispositivo y socio\n",
    "- Detección preliminar de outliers o anomalías\n",
    "\n",
    "**Autor:** Octavio Alvarez  \n",
    "**Proyecto:** Gym Master\n",
    "\n",
    "---"
   ]
  },
  {
   "cell_type": "code",
   "execution_count": null,
   "id": "1e3fb6f4",
   "metadata": {},
   "outputs": [],
   "source": [
    "# Conexión a Supabase\n",
    "from supabase import create_client, Client\n",
    "import pandas as pd\n",
    "import matplotlib.pyplot as plt\n",
    "import seaborn as sns\n",
    "\n",
    "SUPABASE_URL = \"https://brrxvwgjkuofcgdnmnfb.supabase.co\"\n",
    "SUPABASE_KEY = \"<TU_SUPABASE_KEY>\"\n",
    "supabase: Client = create_client(SUPABASE_URL, SUPABASE_KEY)"
   ]
  },
  {
   "cell_type": "code",
   "execution_count": null,
   "id": "e53b9780",
   "metadata": {},
   "outputs": [],
   "source": [
    "# Cargar datos de logs_qr desde Supabase\n",
    "response = supabase.table('logs_qr').select('*').execute()\n",
    "data = response.data\n",
    "\n",
    "if not data:\n",
    "    print(\"La tabla logs_qr está vacía. Ejecuta el pipeline de generación de logs.\")\n",
    "else:\n",
    "    logs_qr_df = pd.DataFrame(data)\n",
    "    print(f\"{len(logs_qr_df)} registros cargados.\")\n",
    "    display(logs_qr_df.head())"
   ]
  },
  {
   "cell_type": "code",
   "execution_count": null,
   "id": "06551b81",
   "metadata": {},
   "outputs": [],
   "source": [
    "# Procesamiento si hay datos\n",
    "if not data:\n",
    "    print('No hay datos para analizar.')\n",
    "else:\n",
    "    logs_qr_df['timestamp'] = pd.to_datetime(logs_qr_df['timestamp'])\n",
    "    logs_qr_df['fecha'] = pd.to_datetime(logs_qr_df['fecha'])\n",
    "    logs_qr_df['dia_semana'] = logs_qr_df['timestamp'].dt.day_name()\n",
    "    logs_qr_df['hora'] = logs_qr_df['hora'].astype(int)\n",
    "\n",
    "    logs_qr_df.info()"
   ]
  },
  {
   "cell_type": "code",
   "execution_count": null,
   "id": "4b42b980",
   "metadata": {},
   "outputs": [],
   "source": [
    "# Distribución de ingresos por hora\n",
    "if not data:\n",
    "    pass\n",
    "else:\n",
    "    plt.figure(figsize=(8,5))\n",
    "    logs_qr_df['hora'].value_counts().sort_index().plot(kind='bar')\n",
    "    plt.title('Distribución de ingresos por hora')\n",
    "    plt.xlabel('Hora')\n",
    "    plt.ylabel('Cantidad de ingresos')\n",
    "    plt.show()"
   ]
  },
  {
   "cell_type": "code",
   "execution_count": null,
   "id": "504e955b",
   "metadata": {},
   "outputs": [],
   "source": [
    "# Distribución por día de la semana\n",
    "if not data:\n",
    "    pass\n",
    "else:\n",
    "    plt.figure(figsize=(8,5))\n",
    "    logs_qr_df['dia_semana'].value_counts().reindex(\n",
    "        ['Monday','Tuesday','Wednesday','Thursday','Friday','Saturday','Sunday']\n",
    "    ).plot(kind='bar')\n",
    "    plt.title('Ingresos por día de la semana')\n",
    "    plt.xlabel('Día de la semana')\n",
    "    plt.ylabel('Cantidad de ingresos')\n",
    "    plt.show()"
   ]
  },
  {
   "cell_type": "code",
   "execution_count": null,
   "id": "84cca25a",
   "metadata": {},
   "outputs": [],
   "source": [
    "# Uso por dispositivo\n",
    "if not data:\n",
    "    pass\n",
    "else:\n",
    "    plt.figure(figsize=(8,5))\n",
    "    logs_qr_df['dispositivo'].value_counts().plot(kind='bar', color='orange')\n",
    "    plt.title('Distribución por dispositivo')\n",
    "    plt.xlabel('Dispositivo')\n",
    "    plt.ylabel('Cantidad de ingresos')\n",
    "    plt.show()"
   ]
  },
  {
   "cell_type": "code",
   "execution_count": null,
   "id": "16b52eb8",
   "metadata": {},
   "outputs": [],
   "source": [
    "# Frecuencia por socio\n",
    "if not data:\n",
    "    pass\n",
    "else:\n",
    "    plt.figure(figsize=(10,5))\n",
    "    logs_qr_df['socio_id'].value_counts().plot(kind='bar', color='green')\n",
    "    plt.title('Ingresos por socio')\n",
    "    plt.xlabel('Socio')\n",
    "    plt.ylabel('Cantidad de ingresos')\n",
    "    plt.show()"
   ]
  },
  {
   "cell_type": "code",
   "execution_count": null,
   "id": "86efc5f2",
   "metadata": {},
   "outputs": [],
   "source": [
    "# Heatmap de concurrencia: Día de la semana vs Hora\n",
    "if not data:\n",
    "    pass\n",
    "else:\n",
    "    heatmap_data = logs_qr_df.groupby(['dia_semana', 'hora']).size().unstack(fill_value=0)\n",
    "    heatmap_data = heatmap_data.reindex(index=['Monday','Tuesday','Wednesday','Thursday','Friday','Saturday','Sunday'])\n",
    "\n",
    "    plt.figure(figsize=(12,6))\n",
    "    sns.heatmap(heatmap_data, cmap='viridis', annot=True, fmt='d')\n",
    "    plt.title('Heatmap de concurrencia por día y hora')\n",
    "    plt.ylabel('Día de la semana')\n",
    "    plt.xlabel('Hora del día')\n",
    "    plt.show()"
   ]
  }
 ],
 "metadata": {
  "kernelspec": {
   "display_name": "Python 3",
   "language": "python",
   "name": "python3"
  },
  "language_info": {
   "name": "python",
   "version": "3.x"
  }
 },
 "nbformat": 4,
 "nbformat_minor": 5
}
