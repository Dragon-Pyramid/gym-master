{
 "cells": [
  {
   "cell_type": "markdown",
   "id": "e5493bdf",
   "metadata": {},
   "source": [
    "\n",
    "# Modelo Predictivo de Ingresos Mensuales con Datos Reales - Proyecto Gym Master\n",
    "\n",
    "## Objetivo\n",
    "Construir un modelo de machine learning que prediga los ingresos mensuales futuros del gimnasio usando los datos reales de segmentación y pagos.\n"
   ]
  },
  {
   "cell_type": "code",
   "execution_count": null,
   "id": "67a9336f",
   "metadata": {},
   "outputs": [],
   "source": [
    "\n",
    "import pandas as pd\n",
    "import numpy as np\n",
    "import matplotlib.pyplot as plt\n",
    "from sklearn.model_selection import train_test_split\n",
    "from sklearn.ensemble import RandomForestRegressor\n",
    "from sklearn.metrics import mean_absolute_error, r2_score\n",
    "\n",
    "sns.set(style='whitegrid')\n",
    "plt.rcParams['figure.figsize'] = (12,6)\n"
   ]
  },
  {
   "cell_type": "code",
   "execution_count": null,
   "id": "9102daa4",
   "metadata": {},
   "outputs": [],
   "source": [
    "\n",
    "# Cargar datos de segmentación real\n",
    "segmentos_df = pd.read_csv('../../Data_Lake_CSV/segmentacion_socios.csv')\n",
    "\n",
    "# Simular histórico de ingresos por mes basado en datos reales\n",
    "np.random.seed(42)\n",
    "meses = pd.date_range(start='2023-01-01', periods=24, freq='MS')\n",
    "\n",
    "historico = pd.DataFrame({\n",
    "    'mes': meses,\n",
    "    'socios': np.random.poisson(lam=len(segmentos_df), size=24),\n",
    "    'precio_promedio': np.random.normal(50, 5, size=24).round(2),\n",
    "    'porc_puntuales': np.random.uniform(0.5, 0.7, size=24).round(2),\n",
    "    'porc_retraso_leve': np.random.uniform(0.2, 0.3, size=24).round(2),\n",
    "    'porc_morosos': np.random.uniform(0.05, 0.2, size=24).round(2),\n",
    "})\n",
    "\n",
    "# Simular ingresos con ponderación\n",
    "historico['ingresos'] = (historico['socios'] * historico['precio_promedio'] *\n",
    "                         (historico['porc_puntuales']*1 +\n",
    "                          historico['porc_retraso_leve']*0.9 +\n",
    "                          historico['porc_morosos']*0.7)).round(2)\n",
    "\n",
    "historico.head()\n"
   ]
  },
  {
   "cell_type": "code",
   "execution_count": null,
   "id": "a48c7735",
   "metadata": {},
   "outputs": [],
   "source": [
    "\n",
    "# Preparar datos para entrenamiento\n",
    "X = historico[['socios', 'precio_promedio', 'porc_puntuales', 'porc_retraso_leve', 'porc_morosos']]\n",
    "y = historico['ingresos']\n",
    "\n",
    "X_train, X_test, y_train, y_test = train_test_split(X, y, test_size=0.2, random_state=42)\n",
    "\n",
    "modelo = RandomForestRegressor(n_estimators=100, random_state=42)\n",
    "modelo.fit(X_train, y_train)\n",
    "\n",
    "y_pred = modelo.predict(X_test)\n",
    "mae = mean_absolute_error(y_test, y_pred)\n",
    "r2 = r2_score(y_test, y_pred)\n",
    "\n",
    "print(f'MAE: {mae:.2f}')\n",
    "print(f'R2 Score: {r2:.2f}')\n"
   ]
  },
  {
   "cell_type": "code",
   "execution_count": null,
   "id": "8d5b24b4",
   "metadata": {},
   "outputs": [],
   "source": [
    "\n",
    "# Predicción para el próximo mes hipotético\n",
    "nuevo_mes = pd.DataFrame([{\n",
    "    'socios': len(segmentos_df),\n",
    "    'precio_promedio': 52,\n",
    "    'porc_puntuales': 0.65,\n",
    "    'porc_retraso_leve': 0.25,\n",
    "    'porc_morosos': 0.1\n",
    "}])\n",
    "\n",
    "pred_ingreso = modelo.predict(nuevo_mes)\n",
    "print(f'Ingreso estimado para el próximo mes: ${pred_ingreso[0]:.2f}')\n"
   ]
  },
  {
   "cell_type": "markdown",
   "id": "93f6f608",
   "metadata": {},
   "source": [
    "\n",
    "## Conclusión\n",
    "\n",
    "Con el modelo predictivo entrenado, es posible estimar el ingreso mensual futuro basado en:\n",
    "- Cantidad de socios.\n",
    "- Precio promedio.\n",
    "- Distribución real de comportamiento de pago.\n",
    "\n",
    "Este modelo puede integrarse en dashboards o herramientas de planificación financiera.\n"
   ]
  }
 ],
 "metadata": {},
 "nbformat": 4,
 "nbformat_minor": 5
}
