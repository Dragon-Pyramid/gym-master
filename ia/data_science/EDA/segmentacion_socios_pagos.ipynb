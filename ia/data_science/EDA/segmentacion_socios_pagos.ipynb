{
 "cells": [
  {
   "cell_type": "markdown",
   "id": "df2da42f",
   "metadata": {},
   "source": [
    "\n",
    "# Segmentación de Socios por Comportamiento de Pago - Proyecto Gym Master\n",
    "\n",
    "## Objetivo\n",
    "Clasificar socios en tres segmentos según su comportamiento de pago:\n",
    "- **Puntuales:** promedio de días de retraso <= 1.\n",
    "- **Retrasos leves:** promedio de días de retraso entre 2 y 7.\n",
    "- **Morosos crónicos:** promedio de días de retraso > 7.\n",
    "\n",
    "Esta segmentación permitirá diseñar estrategias de fidelización, descuentos o recobro.\n"
   ]
  },
  {
   "cell_type": "code",
   "execution_count": null,
   "id": "66f7a1c1",
   "metadata": {},
   "outputs": [],
   "source": [
    "\n",
    "import pandas as pd\n",
    "import matplotlib.pyplot as plt\n",
    "import seaborn as sns\n",
    "\n",
    "# Configuración de gráficos\n",
    "sns.set(style='whitegrid')\n",
    "plt.rcParams['figure.figsize'] = (12,6)\n",
    "\n",
    "# Cargar el dataset\n",
    "pagos_df = pd.read_csv('../Data_Lake/pagos_simulados.csv')\n",
    "\n",
    "# Verificar datos\n",
    "pagos_df.head()\n"
   ]
  },
  {
   "cell_type": "code",
   "execution_count": null,
   "id": "361067ff",
   "metadata": {},
   "outputs": [],
   "source": [
    "\n",
    "# Calcular promedio de días de retraso por socio\n",
    "retraso_promedio = pagos_df.groupby('socio_id')['dias_retraso'].mean().reset_index()\n",
    "retraso_promedio.rename(columns={'dias_retraso': 'promedio_dias_retraso'}, inplace=True)\n",
    "\n",
    "# Asignar segmento según promedio de retraso\n",
    "def asignar_segmento(promedio):\n",
    "    if promedio <= 1:\n",
    "        return 'Puntual'\n",
    "    elif promedio <= 7:\n",
    "        return 'Retraso leve'\n",
    "    else:\n",
    "        return 'Moroso crónico'\n",
    "\n",
    "retraso_promedio['segmento_pago'] = retraso_promedio['promedio_dias_retraso'].apply(asignar_segmento)\n",
    "retraso_promedio.head()\n"
   ]
  },
  {
   "cell_type": "code",
   "execution_count": null,
   "id": "a6a81e64",
   "metadata": {},
   "outputs": [],
   "source": [
    "\n",
    "# Visualización de la distribución de segmentos\n",
    "sns.countplot(data=retraso_promedio, x='segmento_pago', order=['Puntual', 'Retraso leve', 'Moroso crónico'])\n",
    "plt.title('Distribución de Socios por Segmento de Pago')\n",
    "plt.xlabel('Segmento')\n",
    "plt.ylabel('Cantidad de socios')\n",
    "plt.show()\n"
   ]
  },
  {
   "cell_type": "code",
   "execution_count": null,
   "id": "b740b77a",
   "metadata": {},
   "outputs": [],
   "source": [
    "\n",
    "# Opcional: merge con pagos_df para tener el segmento en cada pago\n",
    "pagos_segmentados = pagos_df.merge(retraso_promedio[['socio_id', 'segmento_pago']], on='socio_id')\n",
    "pagos_segmentados.head()\n"
   ]
  },
  {
   "cell_type": "markdown",
   "id": "3dc954c8",
   "metadata": {},
   "source": [
    "\n",
    "## Conclusión\n",
    "Ya contamos con una clasificación inicial de los socios en base a su comportamiento de pago.\n",
    "Esto permite entender mejor a la base de clientes y aplicar estrategias diferenciadas:\n",
    "- Incentivos o descuentos a puntuales.\n",
    "- Recordatorios o pequeños beneficios para los de retraso leve.\n",
    "- Acciones de recobro o planes especiales para morosos crónicos.\n",
    "\n",
    "Este dataset segmentado también es útil para futuras predicciones de churn o riesgos de morosidad.\n"
   ]
  }
 ],
 "metadata": {},
 "nbformat": 4,
 "nbformat_minor": 5
}
