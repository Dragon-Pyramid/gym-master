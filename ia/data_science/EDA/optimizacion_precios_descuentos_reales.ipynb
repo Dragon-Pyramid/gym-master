{
 "cells": [
  {
   "cell_type": "markdown",
   "id": "ca6a9812",
   "metadata": {},
   "source": [
    "\n",
    "# Optimización de Precios y Descuentos Personalizados con Datos Reales - Proyecto Gym Master\n",
    "\n",
    "## Objetivo\n",
    "Simular la elasticidad al precio en base a los perfiles reales de pago de los socios, para proponer estrategias de descuento que minimicen el churn y aumenten los ingresos.\n"
   ]
  },
  {
   "cell_type": "code",
   "execution_count": null,
   "id": "c632ef06",
   "metadata": {},
   "outputs": [],
   "source": [
    "\n",
    "import pandas as pd\n",
    "import matplotlib.pyplot as plt\n",
    "import seaborn as sns\n",
    "import numpy as np\n",
    "\n",
    "# Configuración de gráficos\n",
    "sns.set(style='whitegrid')\n",
    "plt.rcParams['figure.figsize'] = (12,6)\n"
   ]
  },
  {
   "cell_type": "code",
   "execution_count": null,
   "id": "1766475f",
   "metadata": {},
   "outputs": [],
   "source": [
    "\n",
    "# Cargar el dataset de segmentación real\n",
    "segmentos_df = pd.read_csv('../../Data_Lake_CSV/segmentacion_socios.csv')\n",
    "\n",
    "# Verificar datos\n",
    "segmentos_df.head()\n"
   ]
  },
  {
   "cell_type": "code",
   "execution_count": null,
   "id": "60e29576",
   "metadata": {},
   "outputs": [],
   "source": [
    "\n",
    "# Parámetros base\n",
    "niveles_suscripcion = {'Básico': 30, 'Estándar': 50, 'Premium': 70}\n",
    "variaciones_precio = np.arange(-0.3, 0.31, 0.1)  # de -30% a +30%\n",
    "elasticidad = {\n",
    "    'Puntual': -0.2,\n",
    "    'Retraso leve': -0.5,\n",
    "    'Moroso crónico': -0.8\n",
    "}\n",
    "\n",
    "# Asignar nivel aleatorio simulado\n",
    "np.random.seed(42)\n",
    "niveles = np.random.choice(list(niveles_suscripcion.keys()), size=len(segmentos_df), p=[0.5, 0.3, 0.2])\n",
    "segmentos_df['nivel'] = niveles\n",
    "segmentos_df.head()\n"
   ]
  },
  {
   "cell_type": "code",
   "execution_count": null,
   "id": "47dbe919",
   "metadata": {},
   "outputs": [],
   "source": [
    "\n",
    "# Simulación de ingresos esperados\n",
    "resultados = []\n",
    "\n",
    "for nivel, precio_base in niveles_suscripcion.items():\n",
    "    for var in variaciones_precio:\n",
    "        precio_nuevo = precio_base * (1 + var)\n",
    "        for segmento, sens in elasticidad.items():\n",
    "            count_segmento = segmentos_df[(segmentos_df['nivel'] == nivel) & (segmentos_df['segmento_pago'] == segmento)].shape[0]\n",
    "            prob_pago = max(0, 1 + sens * var)\n",
    "            ingresos = count_segmento * precio_nuevo * prob_pago\n",
    "            resultados.append({\n",
    "                'nivel': nivel,\n",
    "                'segmento': segmento,\n",
    "                'variacion_precio': round(var,2),\n",
    "                'precio_nuevo': round(precio_nuevo,2),\n",
    "                'prob_pago': round(prob_pago,2),\n",
    "                'socios_segmento': count_segmento,\n",
    "                'ingresos_esperados': round(ingresos,2)\n",
    "            })\n",
    "\n",
    "df_elasticidad = pd.DataFrame(resultados)\n",
    "df_elasticidad.head()\n"
   ]
  },
  {
   "cell_type": "code",
   "execution_count": null,
   "id": "148a5115",
   "metadata": {},
   "outputs": [],
   "source": [
    "\n",
    "# Visualización de la elasticidad\n",
    "sns.lineplot(data=df_elasticidad, x='variacion_precio', y='ingresos_esperados', hue='segmento', style='nivel')\n",
    "plt.title('Elasticidad al Precio por Segmento y Nivel de Subscripción')\n",
    "plt.xlabel('Variación de Precio (%)')\n",
    "plt.ylabel('Ingresos Esperados')\n",
    "plt.show()\n"
   ]
  },
  {
   "cell_type": "code",
   "execution_count": null,
   "id": "11e549b5",
   "metadata": {},
   "outputs": [],
   "source": [
    "\n",
    "# Propuesta de descuentos personalizados\n",
    "propuesta_descuento = pd.DataFrame({\n",
    "    'segmento': ['Puntual', 'Retraso leve', 'Moroso crónico'],\n",
    "    'descuento_sugerido': ['5%', '10%', '20%'],\n",
    "    'justificacion': [\n",
    "        'Incentivo pequeño o beneficios premium',\n",
    "        'Reducir riesgo de atraso incentivando puntualidad',\n",
    "        'Reducir barrera de pago para minimizar churn'\n",
    "    ]\n",
    "})\n",
    "propuesta_descuento\n"
   ]
  },
  {
   "cell_type": "markdown",
   "id": "e4c6e185",
   "metadata": {},
   "source": [
    "\n",
    "## Conclusión\n",
    "\n",
    "Con esta simulación basada en los datos reales de segmentación, se recomienda aplicar descuentos diferenciados según el perfil de pago, optimizando ingresos y fidelización.\n",
    "\n",
    "- Puntuales: 5%\n",
    "- Retraso leve: 10%\n",
    "- Moroso crónico: 20%\n",
    "\n",
    "Este enfoque puede integrarse en campañas de retención o pricing dinámico.\n"
   ]
  }
 ],
 "metadata": {},
 "nbformat": 4,
 "nbformat_minor": 5
}
