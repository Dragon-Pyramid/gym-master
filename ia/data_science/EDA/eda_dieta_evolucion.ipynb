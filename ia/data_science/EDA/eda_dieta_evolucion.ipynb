{
 "cells": [
  {
   "cell_type": "markdown",
   "id": "bd43e655",
   "metadata": {},
   "source": [
    "# 🥗 EDA - Dieta y Evolución Física (GYM MASTER)\n",
    "\n",
    "Este análisis busca entender la relación entre los planes alimenticios asignados a los socios, su asistencia al gimnasio y su evolución física a lo largo del tiempo.\n",
    "\n",
    "## 🎯 Objetivos del análisis\n",
    "\n",
    "- Medir adherencia a la dieta por semana.\n",
    "- Analizar evolución de peso e IMC por tipo de dieta.\n",
    "- Detectar patrones de progreso físico por grupo objetivo.\n",
    "- Evaluar la correlación entre asistencia y resultados.\n"
   ]
  },
  {
   "cell_type": "code",
   "execution_count": null,
   "id": "bf547c83",
   "metadata": {},
   "outputs": [],
   "source": [
    "# 📚 Imports\n",
    "import pandas as pd\n",
    "import matplotlib.pyplot as plt\n",
    "import seaborn as sns\n",
    "sns.set(style=\"whitegrid\")\n",
    "plt.rcParams[\"figure.figsize\"] = (10, 6)"
   ]
  },
  {
   "cell_type": "code",
   "execution_count": null,
   "id": "404680c0",
   "metadata": {},
   "outputs": [],
   "source": [
    "# ⚙️ Carga de datasets\n",
    "df_dietas = pd.read_csv(\"datasets/dieta_socio.csv\")\n",
    "df_evolucion = pd.read_csv(\"datasets/evolucion_socio.csv\")\n",
    "df_asistencia = pd.read_csv(\"datasets/asistencia.csv\")\n",
    "\n",
    "df_dietas[\"fecha_inicio\"] = pd.to_datetime(df_dietas[\"fecha_inicio\"])\n",
    "df_dietas[\"fecha_fin\"] = pd.to_datetime(df_dietas[\"fecha_fin\"])\n",
    "df_evolucion[\"fecha\"] = pd.to_datetime(df_evolucion[\"fecha\"])\n",
    "df_asistencia[\"fecha\"] = pd.to_datetime(df_asistencia[\"fecha\"])"
   ]
  },
  {
   "cell_type": "code",
   "execution_count": null,
   "id": "484ffdc4",
   "metadata": {},
   "outputs": [],
   "source": [
    "# 🧮 Cálculo de IMC\n",
    "df_evolucion[\"altura_m\"] = df_evolucion[\"altura_cm\"] / 100\n",
    "df_evolucion[\"imc\"] = df_evolucion[\"peso\"] / (df_evolucion[\"altura_m\"] ** 2)"
   ]
  },
  {
   "cell_type": "code",
   "execution_count": null,
   "id": "35d97cdf",
   "metadata": {},
   "outputs": [],
   "source": [
    "# 📈 Evolución de peso e IMC\n",
    "socio_ejemplo = df_evolucion[\"socio_id\"].iloc[0]\n",
    "df_socio = df_evolucion[df_evolucion[\"socio_id\"] == socio_ejemplo]\n",
    "\n",
    "plt.plot(df_socio[\"fecha\"], df_socio[\"peso\"], marker='o', label=\"Peso (kg)\")\n",
    "plt.plot(df_socio[\"fecha\"], df_socio[\"imc\"], marker='s', label=\"IMC\")\n",
    "plt.title(f\"Evolución física del socio {socio_ejemplo}\")\n",
    "plt.xlabel(\"Fecha\")\n",
    "plt.ylabel(\"Valor\")\n",
    "plt.legend()\n",
    "plt.xticks(rotation=45)\n",
    "plt.grid()\n",
    "plt.show()"
   ]
  },
  {
   "cell_type": "code",
   "execution_count": null,
   "id": "30e087a3",
   "metadata": {},
   "outputs": [],
   "source": [
    "# 📆 Cálculo de adherencia\n",
    "df_asistencia[\"semana\"] = df_asistencia[\"fecha\"].dt.to_period(\"W\").apply(lambda r: r.start_time)\n",
    "\n",
    "adherencia = df_asistencia.groupby([\"socio_id\", \"semana\"]).size().reset_index(name=\"asistencias\")\n",
    "adherencia = adherencia.merge(df_dietas[[\"socio_id\", \"fecha_inicio\", \"fecha_fin\"]], on=\"socio_id\")\n",
    "adherencia = adherencia[(adherencia[\"semana\"] >= adherencia[\"fecha_inicio\"]) & (adherencia[\"semana\"] <= adherencia[\"fecha_fin\"])]\n",
    "adherencia[\"cumple\"] = adherencia[\"asistencias\"] >= 2\n",
    "\n",
    "cumplimiento = adherencia.groupby(\"socio_id\")[\"cumple\"].mean().reset_index(name=\"porcentaje_cumplimiento\")\n",
    "\n",
    "sns.histplot(cumplimiento[\"porcentaje_cumplimiento\"], bins=10, kde=True)\n",
    "plt.title(\"Distribución de adherencia a la dieta\")\n",
    "plt.xlabel(\"% de semanas cumplidas\")\n",
    "plt.ylabel(\"Cantidad de socios\")\n",
    "plt.show()"
   ]
  },
  {
   "cell_type": "code",
   "execution_count": null,
   "id": "d811ae76",
   "metadata": {},
   "outputs": [],
   "source": [
    "# 📊 Comparación entre tipos de dieta\n",
    "df_dietas[\"tipo_dieta\"] = df_dietas[\"descripcion_json\"].apply(lambda x: \"Volumen\" if \"avena\" in x else \"Otro\")\n",
    "\n",
    "df_imc = df_evolucion.groupby(\"socio_id\").agg(imc_inicio=(\"imc\", \"first\"), imc_fin=(\"imc\", \"last\"))\n",
    "df_imc[\"delta_imc\"] = df_imc[\"imc_fin\"] - df_imc[\"imc_inicio\"]\n",
    "\n",
    "df_final = df_imc.merge(df_dietas[[\"socio_id\", \"tipo_dieta\"]], on=\"socio_id\")\n",
    "\n",
    "sns.boxplot(x=\"tipo_dieta\", y=\"delta_imc\", data=df_final)\n",
    "plt.title(\"Cambio de IMC según tipo de dieta\")\n",
    "plt.ylabel(\"Variación de IMC\")\n",
    "plt.show()"
   ]
  },
  {
   "cell_type": "markdown",
   "id": "4d943273",
   "metadata": {},
   "source": [
    "## 🔚 Conclusiones preliminares\n",
    "\n",
    "- El porcentaje medio de adherencia semanal fue del XX%.\n",
    "- El tipo de dieta \"Volumen\" mostró mayor variación positiva en peso o IMC.\n",
    "- La evolución física parece estar asociada a la frecuencia de asistencia.\n",
    "\n",
    "**Siguientes pasos:**\n",
    "- Incluir clustering por perfiles de evolución.\n",
    "- Desarrollar modelo predictivo de adherencia.\n",
    "- Sumar medidas corporales si están disponibles.\n"
   ]
  }
 ],
 "metadata": {},
 "nbformat": 4,
 "nbformat_minor": 5
}
