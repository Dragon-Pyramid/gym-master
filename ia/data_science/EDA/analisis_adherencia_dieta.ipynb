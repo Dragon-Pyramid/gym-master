{
 "cells": [
  {
   "cell_type": "markdown",
   "id": "d6909bf8",
   "metadata": {},
   "source": [
    "# 🥗 Análisis de Adherencia a la Dieta\n",
    "\n",
    "Este análisis evalúa si los socios cumplieron con la dieta asignada durante el período establecido. \n",
    "Se considera adherencia semanal cuando el socio asistió al gimnasio al menos 2 veces dentro de la semana correspondiente a su plan de dieta.\n",
    "\n",
    "---\n"
   ]
  },
  {
   "cell_type": "code",
   "execution_count": null,
   "id": "5af8d4cf",
   "metadata": {},
   "outputs": [],
   "source": [
    "# 📚 Imports\n",
    "import pandas as pd\n",
    "import matplotlib.pyplot as plt\n",
    "import seaborn as sns\n",
    "from datetime import timedelta\n",
    "\n",
    "sns.set(style=\"whitegrid\")\n",
    "plt.rcParams[\"figure.figsize\"] = (10, 6)\n"
   ]
  },
  {
   "cell_type": "code",
   "execution_count": null,
   "id": "1988d9b1",
   "metadata": {},
   "outputs": [],
   "source": [
    "# 📥 Carga de datos\n",
    "df_dietas = pd.read_csv(\"datasets/dieta_socio.csv\")\n",
    "df_asistencia = pd.read_csv(\"datasets/asistencia.csv\")\n",
    "\n",
    "# 🗓 Formatear fechas\n",
    "df_dietas[\"fecha_inicio\"] = pd.to_datetime(df_dietas[\"fecha_inicio\"])\n",
    "df_dietas[\"fecha_fin\"] = df_dietas[\"fecha_inicio\"] + pd.Timedelta(days=28)\n",
    "df_asistencia[\"fecha\"] = pd.to_datetime(df_asistencia[\"fecha\"])\n"
   ]
  },
  {
   "cell_type": "code",
   "execution_count": null,
   "id": "e0bd58d3",
   "metadata": {},
   "outputs": [],
   "source": [
    "# 📆 Calcular semana de asistencia\n",
    "df_asistencia[\"semana\"] = df_asistencia[\"fecha\"].dt.to_period(\"W\").apply(lambda r: r.start_time)\n"
   ]
  },
  {
   "cell_type": "code",
   "execution_count": null,
   "id": "c53a8706",
   "metadata": {},
   "outputs": [],
   "source": [
    "# 📊 Agrupar asistencia semanal\n",
    "asistencias_semanales = (\n",
    "    df_asistencia.groupby([\"socio_id\", \"semana\"])\n",
    "    .size()\n",
    "    .reset_index(name=\"asistencias\")\n",
    ")\n"
   ]
  },
  {
   "cell_type": "code",
   "execution_count": null,
   "id": "d587f724",
   "metadata": {},
   "outputs": [],
   "source": [
    "# 🔄 Cruzar con fechas de dieta\n",
    "adherencia = asistencias_semanales.merge(\n",
    "    df_dietas[[\"socio_id\", \"fecha_inicio\", \"fecha_fin\"]],\n",
    "    on=\"socio_id\"\n",
    ")\n",
    "\n",
    "# 📌 Filtrar semanas dentro del período de dieta\n",
    "adherencia = adherencia[\n",
    "    (adherencia[\"semana\"] >= adherencia[\"fecha_inicio\"]) &\n",
    "    (adherencia[\"semana\"] <= adherencia[\"fecha_fin\"])\n",
    "]\n"
   ]
  },
  {
   "cell_type": "code",
   "execution_count": null,
   "id": "3e9d62f2",
   "metadata": {},
   "outputs": [],
   "source": [
    "# ✅ Marcar cumplimiento (al menos 2 asistencias por semana)\n",
    "adherencia[\"cumple\"] = adherencia[\"asistencias\"] >= 2\n"
   ]
  },
  {
   "cell_type": "code",
   "execution_count": null,
   "id": "a3804a59",
   "metadata": {},
   "outputs": [],
   "source": [
    "# 📈 Porcentaje de semanas cumplidas por socio\n",
    "cumplimiento = (\n",
    "    adherencia.groupby(\"socio_id\")[\"cumple\"]\n",
    "    .mean()\n",
    "    .reset_index(name=\"porcentaje_cumplimiento\")\n",
    ")\n",
    "\n",
    "cumplimiento[\"porcentaje_cumplimiento\"] = (cumplimiento[\"porcentaje_cumplimiento\"] * 100).round(1)\n",
    "cumplimiento.head()\n"
   ]
  },
  {
   "cell_type": "code",
   "execution_count": null,
   "id": "321705be",
   "metadata": {},
   "outputs": [],
   "source": [
    "# 📊 Histograma de cumplimiento\n",
    "sns.histplot(cumplimiento[\"porcentaje_cumplimiento\"], bins=10, kde=True)\n",
    "plt.title(\"Distribución de Adherencia a la Dieta\")\n",
    "plt.xlabel(\"% de semanas cumplidas\")\n",
    "plt.ylabel(\"Cantidad de socios\")\n",
    "plt.show()\n"
   ]
  },
  {
   "cell_type": "markdown",
   "id": "21fb868a",
   "metadata": {},
   "source": [
    "## 🧾 Conclusiones\n",
    "\n",
    "- Se evaluó la adherencia semanal de los socios a partir de su asistencia al gimnasio dentro del período de su dieta.\n",
    "- Se consideró adherente al socio que asistió al menos 2 veces por semana.\n",
    "- El gráfico muestra la distribución general del porcentaje de cumplimiento por socio.\n",
    "- Este análisis permite detectar niveles bajos de adherencia y tomar medidas personalizadas para mejorar la constancia.\n",
    "\n",
    "---\n"
   ]
  }
 ],
 "metadata": {},
 "nbformat": 4,
 "nbformat_minor": 5
}
