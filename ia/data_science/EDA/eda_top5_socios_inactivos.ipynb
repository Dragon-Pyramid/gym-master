{
 "cells": [
  {
   "cell_type": "markdown",
   "id": "6a76c396",
   "metadata": {},
   "source": [
    "\n",
    "# Top 5 Socios Inactivos - Proyecto Gym Master\n",
    "\n",
    "Identificar los 5 socios con menor cantidad de asistencias en el último mes usando la tabla real de asistencia en Supabase.\n"
   ]
  },
  {
   "cell_type": "code",
   "execution_count": null,
   "id": "7d733124",
   "metadata": {},
   "outputs": [],
   "source": [
    "\n",
    "import pandas as pd\n",
    "from supabase import create_client\n",
    "from datetime import datetime, timedelta\n",
    "\n",
    "# Conexión a Supabase\n",
    "SUPABASE_URL = \"https://<TU-PROYECTO>.supabase.co\"\n",
    "SUPABASE_KEY = \"<TU-API-KEY>\"\n",
    "supabase = create_client(SUPABASE_URL, SUPABASE_KEY)\n"
   ]
  },
  {
   "cell_type": "code",
   "execution_count": null,
   "id": "ecd24b20",
   "metadata": {},
   "outputs": [],
   "source": [
    "\n",
    "# Obtener datos de la tabla asistencia\n",
    "response = supabase.table('asistencia').select('*').execute()\n",
    "asistencias = pd.DataFrame(response.data)\n",
    "\n",
    "# Formatear fechas\n",
    "asistencias['fecha'] = pd.to_datetime(asistencias['fecha'])\n",
    "asistencias.head()\n"
   ]
  },
  {
   "cell_type": "code",
   "execution_count": null,
   "id": "94f74942",
   "metadata": {},
   "outputs": [],
   "source": [
    "\n",
    "# Filtrar asistencias del último mes\n",
    "hoy = datetime.now()\n",
    "ultimo_mes = hoy - timedelta(days=30)\n",
    "asistencias_mes = asistencias[asistencias['fecha'] >= ultimo_mes]\n"
   ]
  },
  {
   "cell_type": "code",
   "execution_count": null,
   "id": "a08c2035",
   "metadata": {},
   "outputs": [],
   "source": [
    "\n",
    "# Contar asistencias por socio\n",
    "conteo_asistencias = asistencias_mes.groupby('socio_id').agg({\n",
    "    'fecha': ['count', 'max']\n",
    "}).reset_index()\n",
    "\n",
    "conteo_asistencias.columns = ['socio_id', 'cantidad_asistencias', 'ultima_asistencia']\n",
    "\n",
    "# Top 5 socios menos activos\n",
    "top5_inactivos = conteo_asistencias.sort_values(by='cantidad_asistencias').head(5)\n",
    "top5_inactivos\n"
   ]
  },
  {
   "cell_type": "code",
   "execution_count": null,
   "id": "2a9e62ff",
   "metadata": {},
   "outputs": [],
   "source": [
    "\n",
    "# Guardar resultado en CSV\n",
    "top5_inactivos.to_csv('../../Data_Lake_CSV/top5_socios_inactivos.csv', index=False)\n",
    "print('✅ Archivo guardado: ../../Data_Lake_CSV/top5_socios_inactivos.csv')\n"
   ]
  },
  {
   "cell_type": "markdown",
   "id": "62159528",
   "metadata": {},
   "source": [
    "\n",
    "## Conclusión\n",
    "\n",
    "Ya contamos con el Top 5 de socios menos activos en el último mes, para mostrarlo en el dashboard y generar acciones.\n"
   ]
  }
 ],
 "metadata": {},
 "nbformat": 4,
 "nbformat_minor": 5
}
