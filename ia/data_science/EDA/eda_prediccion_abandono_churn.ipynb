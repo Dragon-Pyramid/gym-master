{
 "cells": [
  {
   "cell_type": "markdown",
   "id": "5603aa81",
   "metadata": {},
   "source": [
    "\n",
    "# Predicción de Abandono (Churn) - Proyecto Gym Master\n",
    "\n",
    "Este notebook predice la probabilidad de abandono (churn) de socios, considerando asistencia, pagos y segmentación de perfil de pago.\n"
   ]
  },
  {
   "cell_type": "code",
   "execution_count": null,
   "id": "c86f6dc8",
   "metadata": {},
   "outputs": [],
   "source": [
    "\n",
    "import pandas as pd\n",
    "import numpy as np\n",
    "from datetime import datetime, timedelta\n",
    "from supabase import create_client\n",
    "from sklearn.model_selection import train_test_split\n",
    "from sklearn.ensemble import RandomForestClassifier\n",
    "from sklearn.metrics import classification_report, accuracy_score\n",
    "\n",
    "# Conexión a Supabase\n",
    "SUPABASE_URL = \"https://<TU-PROYECTO>.supabase.co\"\n",
    "SUPABASE_KEY = \"<TU-API-KEY>\"\n",
    "supabase = create_client(SUPABASE_URL, SUPABASE_KEY)\n"
   ]
  },
  {
   "cell_type": "code",
   "execution_count": null,
   "id": "f8813141",
   "metadata": {},
   "outputs": [],
   "source": [
    "\n",
    "# Cargar datos reales\n",
    "asistencias = pd.DataFrame(supabase.table('asistencia').select('*').execute().data)\n",
    "asistencias['fecha'] = pd.to_datetime(asistencias['fecha'])\n",
    "\n",
    "pagos = pd.DataFrame(supabase.table('pago').select('*').execute().data)\n",
    "pagos['fecha_pago'] = pd.to_datetime(pagos['fecha_pago'])\n",
    "\n",
    "segmentos = pd.read_csv('../../Data_Lake_CSV/segmentacion_socios.csv')\n"
   ]
  },
  {
   "cell_type": "code",
   "execution_count": null,
   "id": "d36da399",
   "metadata": {},
   "outputs": [],
   "source": [
    "\n",
    "# Etiqueta churn: no asistió en últimos 60 días\n",
    "hoy = datetime.now()\n",
    "dias_churn = 60\n",
    "\n",
    "ultima_asistencia = asistencias.groupby('socio_id')['fecha'].max().reset_index()\n",
    "ultima_asistencia['dias_ultimo'] = (hoy - ultima_asistencia['fecha']).dt.days\n",
    "ultima_asistencia['churn'] = ultima_asistencia['dias_ultimo'].apply(lambda x: 1 if x > dias_churn else 0)\n",
    "ultima_asistencia['churn'].value_counts()\n"
   ]
  },
  {
   "cell_type": "code",
   "execution_count": null,
   "id": "1f4fc888",
   "metadata": {},
   "outputs": [],
   "source": [
    "\n",
    "# Features: total asistencias, promedio días retraso\n",
    "total_asistencias = asistencias.groupby('socio_id').size().reset_index(name='total_asistencias')\n",
    "\n",
    "pagos['fecha_vencimiento'] = pd.to_datetime(pagos['fecha_vencimiento'])\n",
    "pagos['dias_retraso'] = (pagos['fecha_pago'] - pagos['fecha_vencimiento']).dt.days\n",
    "pagos['dias_retraso'] = pagos['dias_retraso'].apply(lambda x: max(x, 0))\n",
    "\n",
    "promedio_retraso = pagos.groupby('socio_id')['dias_retraso'].mean().reset_index()\n",
    "promedio_retraso.rename(columns={'dias_retraso': 'promedio_dias_retraso'}, inplace=True)\n",
    "\n",
    "df_churn = ultima_asistencia[['socio_id', 'churn']]\n",
    "df_churn = df_churn.merge(total_asistencias, on='socio_id', how='left')\n",
    "df_churn = df_churn.merge(promedio_retraso, on='socio_id', how='left')\n",
    "df_churn = df_churn.merge(segmentos[['socio_id', 'segmento_pago']], on='socio_id', how='left')\n",
    "\n",
    "segmento_dummies = pd.get_dummies(df_churn['segmento_pago'])\n",
    "df_churn = pd.concat([df_churn, segmento_dummies], axis=1)\n",
    "df_churn.fillna(0, inplace=True)\n",
    "\n",
    "df_churn['churn'].value_counts()\n"
   ]
  },
  {
   "cell_type": "code",
   "execution_count": null,
   "id": "f9b0168d",
   "metadata": {},
   "outputs": [],
   "source": [
    "\n",
    "features = ['total_asistencias', 'promedio_dias_retraso'] + list(segmento_dummies.columns)\n",
    "X = df_churn[features]\n",
    "y = df_churn['churn']\n",
    "\n",
    "# Stratify para garantizar representación de ambas clases\n",
    "X_train, X_test, y_train, y_test = train_test_split(\n",
    "    X, y, test_size=0.2, random_state=42, stratify=y\n",
    ")\n",
    "\n",
    "modelo = RandomForestClassifier(n_estimators=100, random_state=42)\n",
    "modelo.fit(X_train, y_train)\n",
    "\n",
    "y_pred = modelo.predict(X_test)\n",
    "print(classification_report(y_test, y_pred))\n",
    "print(f'Accuracy: {accuracy_score(y_test, y_pred):.2f}')\n"
   ]
  },
  {
   "cell_type": "code",
   "execution_count": null,
   "id": "4edcaeb7",
   "metadata": {},
   "outputs": [],
   "source": [
    "\n",
    "# Asignar probabilidad de churn solo si el modelo entrenó con ambas clases\n",
    "if len(modelo.classes_) > 1:\n",
    "    df_churn['prob_churn'] = modelo.predict_proba(X)[:,1]\n",
    "else:\n",
    "    df_churn['prob_churn'] = 0  # o 1 si solo hubo clase churn=1\n",
    "\n",
    "df_churn[['socio_id', 'prob_churn']].sort_values(by='prob_churn', ascending=False).head()\n"
   ]
  },
  {
   "cell_type": "code",
   "execution_count": null,
   "id": "d75184b0",
   "metadata": {},
   "outputs": [],
   "source": [
    "\n",
    "# Guardar resultados\n",
    "df_churn[['socio_id', 'prob_churn']].to_csv('../../Data_Lake_CSV/probabilidad_churn.csv', index=False)\n",
    "print('✅ Probabilidad de churn guardada en ../../Data_Lake_CSV/probabilidad_churn.csv')\n"
   ]
  },
  {
   "cell_type": "markdown",
   "id": "596a156a",
   "metadata": {},
   "source": [
    "\n",
    "## Conclusión\n",
    "\n",
    "El modelo ahora maneja correctamente la predicción incluso en casos donde hay desbalance de clases, evitando errores en el cálculo de probabilidades.\n"
   ]
  }
 ],
 "metadata": {},
 "nbformat": 4,
 "nbformat_minor": 5
}
