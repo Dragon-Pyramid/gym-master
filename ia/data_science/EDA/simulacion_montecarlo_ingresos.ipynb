{
 "cells": [
  {
   "cell_type": "markdown",
   "id": "bb06105d",
   "metadata": {},
   "source": [
    "\n",
    "# Simulación Monte Carlo de Crecimiento de Socios e Ingresos - Proyecto Gym Master\n",
    "\n",
    "## Objetivo\n",
    "Simular escenarios futuros de crecimiento de socios y variación de precios usando la técnica de Monte Carlo, para estimar ingresos mensuales proyectados bajo distintas condiciones de negocio.\n"
   ]
  },
  {
   "cell_type": "code",
   "execution_count": null,
   "id": "cba5fb57",
   "metadata": {},
   "outputs": [],
   "source": [
    "\n",
    "import numpy as np\n",
    "import pandas as pd\n",
    "import matplotlib.pyplot as plt\n",
    "import seaborn as sns\n",
    "\n",
    "# Configuraciones generales\n",
    "sns.set(style='whitegrid')\n",
    "plt.rcParams['figure.figsize'] = (12,6)\n",
    "\n",
    "# Datos base\n",
    "socios_actuales = 200\n",
    "precio_mensual_promedio = 50  # asumiendo promedio entre Básico, Estándar, Premium\n",
    "\n",
    "print(f'Socios actuales: {socios_actuales}, Precio promedio mensual: ${precio_mensual_promedio}')\n"
   ]
  },
  {
   "cell_type": "code",
   "execution_count": null,
   "id": "0d98cb5a",
   "metadata": {},
   "outputs": [],
   "source": [
    "\n",
    "# Parámetros para la simulación\n",
    "n_simulaciones = 1000\n",
    "meses_a_simular = 12\n",
    "crecimiento_medio = 0.02  # 2% mensual\n",
    "crecimiento_std = 0.01    # desviación estándar del crecimiento\n",
    "\n",
    "variacion_precio_media = 0.01  # 1% incremento mensual promedio\n",
    "variacion_precio_std = 0.005\n",
    "\n",
    "simulaciones = []\n",
    "\n",
    "for sim in range(n_simulaciones):\n",
    "    socios = socios_actuales\n",
    "    precio = precio_mensual_promedio\n",
    "    ingresos_totales = []\n",
    "    \n",
    "    for mes in range(meses_a_simular):\n",
    "        tasa_crecimiento = np.random.normal(crecimiento_medio, crecimiento_std)\n",
    "        socios *= (1 + tasa_crecimiento)\n",
    "        \n",
    "        ajuste_precio = np.random.normal(variacion_precio_media, variacion_precio_std)\n",
    "        precio *= (1 + ajuste_precio)\n",
    "        \n",
    "        ingresos = socios * precio\n",
    "        ingresos_totales.append(ingresos)\n",
    "    \n",
    "    simulaciones.append(ingresos_totales)\n",
    "\n",
    "simulaciones = np.array(simulaciones)\n",
    "simulaciones.shape\n"
   ]
  },
  {
   "cell_type": "code",
   "execution_count": null,
   "id": "2898fe6a",
   "metadata": {},
   "outputs": [],
   "source": [
    "\n",
    "# Visualizar algunas trayectorias simuladas\n",
    "for i in range(100):  # primeras 100 simulaciones\n",
    "    plt.plot(simulaciones[i], color='skyblue', alpha=0.3)\n",
    "\n",
    "plt.title('Simulación Monte Carlo de Ingresos Mensuales (1000 simulaciones)')\n",
    "plt.xlabel('Mes')\n",
    "plt.ylabel('Ingresos proyectados ($)')\n",
    "plt.show()\n"
   ]
  },
  {
   "cell_type": "code",
   "execution_count": null,
   "id": "43d98f37",
   "metadata": {},
   "outputs": [],
   "source": [
    "\n",
    "# Cálculo de percentiles por mes\n",
    "percentiles = [5, 50, 95]\n",
    "proyecciones = np.percentile(simulaciones, percentiles, axis=0)\n",
    "\n",
    "for i, p in enumerate(percentiles):\n",
    "    plt.plot(proyecciones[i], label=f'Percentil {p}')\n",
    "\n",
    "plt.title('Proyección de Ingresos con Percentiles (P5, P50, P95)')\n",
    "plt.xlabel('Mes')\n",
    "plt.ylabel('Ingresos proyectados ($)')\n",
    "plt.legend()\n",
    "plt.show()\n"
   ]
  },
  {
   "cell_type": "markdown",
   "id": "f125d901",
   "metadata": {},
   "source": [
    "\n",
    "## Conclusión\n",
    "\n",
    "Esta simulación Monte Carlo permite visualizar rangos esperados de ingresos futuros bajo incertidumbre en:\n",
    "- Crecimiento de socios mes a mes.\n",
    "- Variación de precios.\n",
    "\n",
    "Las trayectorias y percentiles ayudan a planificar escenarios optimistas, conservadores y pesimistas para la toma de decisiones estratégicas.\n"
   ]
  }
 ],
 "metadata": {},
 "nbformat": 4,
 "nbformat_minor": 5
}
